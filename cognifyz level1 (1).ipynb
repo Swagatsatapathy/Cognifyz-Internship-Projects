{
 "cells": [
  {
   "cell_type": "markdown",
   "id": "7f634bda-14de-44ed-aea4-660078b2104b",
   "metadata": {},
   "source": [
    "# level-1, Task-1"
   ]
  },
  {
   "cell_type": "markdown",
   "id": "273b1441-14e5-4b2d-992c-153a3fc1dbf0",
   "metadata": {},
   "source": [
    "# import Libraries"
   ]
  },
  {
   "cell_type": "code",
   "execution_count": 5,
   "id": "0bc3e15e-c49d-4b81-93cb-f40eeb4a94f6",
   "metadata": {},
   "outputs": [],
   "source": [
    "import pandas as pd\n",
    "import numpy as np\n",
    "import matplotlib.pyplot as plt\n",
    "import seaborn as sns"
   ]
  },
  {
   "cell_type": "markdown",
   "id": "154a8c17-881b-4203-815c-b6ed18b53820",
   "metadata": {},
   "source": [
    "# reading the data"
   ]
  },
  {
   "cell_type": "code",
   "execution_count": 31,
   "id": "e06c4786-1f01-4017-8763-bfb7a0bc8f44",
   "metadata": {},
   "outputs": [],
   "source": [
    "\n",
    "df = pd.read_csv(r\"C:\\Users\\SASWATAM\\Downloads\\Dataset .csv\")"
   ]
  },
  {
   "cell_type": "code",
   "execution_count": 37,
   "id": "cd1cd1e1-8080-4cab-9580-e516963b6ffa",
   "metadata": {},
   "outputs": [
    {
     "data": {
      "text/html": [
       "<div>\n",
       "<style scoped>\n",
       "    .dataframe tbody tr th:only-of-type {\n",
       "        vertical-align: middle;\n",
       "    }\n",
       "\n",
       "    .dataframe tbody tr th {\n",
       "        vertical-align: top;\n",
       "    }\n",
       "\n",
       "    .dataframe thead th {\n",
       "        text-align: right;\n",
       "    }\n",
       "</style>\n",
       "<table border=\"1\" class=\"dataframe\">\n",
       "  <thead>\n",
       "    <tr style=\"text-align: right;\">\n",
       "      <th></th>\n",
       "      <th>Restaurant ID</th>\n",
       "      <th>Restaurant Name</th>\n",
       "      <th>Country Code</th>\n",
       "      <th>City</th>\n",
       "      <th>Address</th>\n",
       "      <th>Locality</th>\n",
       "      <th>Locality Verbose</th>\n",
       "      <th>Longitude</th>\n",
       "      <th>Latitude</th>\n",
       "      <th>Cuisines</th>\n",
       "      <th>...</th>\n",
       "      <th>Currency</th>\n",
       "      <th>Has Table booking</th>\n",
       "      <th>Has Online delivery</th>\n",
       "      <th>Is delivering now</th>\n",
       "      <th>Switch to order menu</th>\n",
       "      <th>Price range</th>\n",
       "      <th>Aggregate rating</th>\n",
       "      <th>Rating color</th>\n",
       "      <th>Rating text</th>\n",
       "      <th>Votes</th>\n",
       "    </tr>\n",
       "  </thead>\n",
       "  <tbody>\n",
       "    <tr>\n",
       "      <th>0</th>\n",
       "      <td>6317637</td>\n",
       "      <td>Le Petit Souffle</td>\n",
       "      <td>162</td>\n",
       "      <td>Makati City</td>\n",
       "      <td>Third Floor, Century City Mall, Kalayaan Avenu...</td>\n",
       "      <td>Century City Mall, Poblacion, Makati City</td>\n",
       "      <td>Century City Mall, Poblacion, Makati City, Mak...</td>\n",
       "      <td>121.027535</td>\n",
       "      <td>14.565443</td>\n",
       "      <td>French, Japanese, Desserts</td>\n",
       "      <td>...</td>\n",
       "      <td>Botswana Pula(P)</td>\n",
       "      <td>Yes</td>\n",
       "      <td>No</td>\n",
       "      <td>No</td>\n",
       "      <td>No</td>\n",
       "      <td>3</td>\n",
       "      <td>4.8</td>\n",
       "      <td>Dark Green</td>\n",
       "      <td>Excellent</td>\n",
       "      <td>314</td>\n",
       "    </tr>\n",
       "    <tr>\n",
       "      <th>1</th>\n",
       "      <td>6304287</td>\n",
       "      <td>Izakaya Kikufuji</td>\n",
       "      <td>162</td>\n",
       "      <td>Makati City</td>\n",
       "      <td>Little Tokyo, 2277 Chino Roces Avenue, Legaspi...</td>\n",
       "      <td>Little Tokyo, Legaspi Village, Makati City</td>\n",
       "      <td>Little Tokyo, Legaspi Village, Makati City, Ma...</td>\n",
       "      <td>121.014101</td>\n",
       "      <td>14.553708</td>\n",
       "      <td>Japanese</td>\n",
       "      <td>...</td>\n",
       "      <td>Botswana Pula(P)</td>\n",
       "      <td>Yes</td>\n",
       "      <td>No</td>\n",
       "      <td>No</td>\n",
       "      <td>No</td>\n",
       "      <td>3</td>\n",
       "      <td>4.5</td>\n",
       "      <td>Dark Green</td>\n",
       "      <td>Excellent</td>\n",
       "      <td>591</td>\n",
       "    </tr>\n",
       "    <tr>\n",
       "      <th>2</th>\n",
       "      <td>6300002</td>\n",
       "      <td>Heat - Edsa Shangri-La</td>\n",
       "      <td>162</td>\n",
       "      <td>Mandaluyong City</td>\n",
       "      <td>Edsa Shangri-La, 1 Garden Way, Ortigas, Mandal...</td>\n",
       "      <td>Edsa Shangri-La, Ortigas, Mandaluyong City</td>\n",
       "      <td>Edsa Shangri-La, Ortigas, Mandaluyong City, Ma...</td>\n",
       "      <td>121.056831</td>\n",
       "      <td>14.581404</td>\n",
       "      <td>Seafood, Asian, Filipino, Indian</td>\n",
       "      <td>...</td>\n",
       "      <td>Botswana Pula(P)</td>\n",
       "      <td>Yes</td>\n",
       "      <td>No</td>\n",
       "      <td>No</td>\n",
       "      <td>No</td>\n",
       "      <td>4</td>\n",
       "      <td>4.4</td>\n",
       "      <td>Green</td>\n",
       "      <td>Very Good</td>\n",
       "      <td>270</td>\n",
       "    </tr>\n",
       "  </tbody>\n",
       "</table>\n",
       "<p>3 rows × 21 columns</p>\n",
       "</div>"
      ],
      "text/plain": [
       "   Restaurant ID         Restaurant Name  Country Code              City  \\\n",
       "0        6317637        Le Petit Souffle           162       Makati City   \n",
       "1        6304287        Izakaya Kikufuji           162       Makati City   \n",
       "2        6300002  Heat - Edsa Shangri-La           162  Mandaluyong City   \n",
       "\n",
       "                                             Address  \\\n",
       "0  Third Floor, Century City Mall, Kalayaan Avenu...   \n",
       "1  Little Tokyo, 2277 Chino Roces Avenue, Legaspi...   \n",
       "2  Edsa Shangri-La, 1 Garden Way, Ortigas, Mandal...   \n",
       "\n",
       "                                     Locality  \\\n",
       "0   Century City Mall, Poblacion, Makati City   \n",
       "1  Little Tokyo, Legaspi Village, Makati City   \n",
       "2  Edsa Shangri-La, Ortigas, Mandaluyong City   \n",
       "\n",
       "                                    Locality Verbose   Longitude   Latitude  \\\n",
       "0  Century City Mall, Poblacion, Makati City, Mak...  121.027535  14.565443   \n",
       "1  Little Tokyo, Legaspi Village, Makati City, Ma...  121.014101  14.553708   \n",
       "2  Edsa Shangri-La, Ortigas, Mandaluyong City, Ma...  121.056831  14.581404   \n",
       "\n",
       "                           Cuisines  ...          Currency Has Table booking  \\\n",
       "0        French, Japanese, Desserts  ...  Botswana Pula(P)               Yes   \n",
       "1                          Japanese  ...  Botswana Pula(P)               Yes   \n",
       "2  Seafood, Asian, Filipino, Indian  ...  Botswana Pula(P)               Yes   \n",
       "\n",
       "  Has Online delivery Is delivering now Switch to order menu Price range  \\\n",
       "0                  No                No                   No           3   \n",
       "1                  No                No                   No           3   \n",
       "2                  No                No                   No           4   \n",
       "\n",
       "   Aggregate rating  Rating color Rating text Votes  \n",
       "0               4.8    Dark Green   Excellent   314  \n",
       "1               4.5    Dark Green   Excellent   591  \n",
       "2               4.4         Green   Very Good   270  \n",
       "\n",
       "[3 rows x 21 columns]"
      ]
     },
     "execution_count": 37,
     "metadata": {},
     "output_type": "execute_result"
    }
   ],
   "source": [
    "df.head(3)"
   ]
  },
  {
   "cell_type": "code",
   "execution_count": 41,
   "id": "b14a2957-e893-404f-92e3-fb41689a8a66",
   "metadata": {},
   "outputs": [
    {
     "data": {
      "text/plain": [
       "(9551, 21)"
      ]
     },
     "execution_count": 41,
     "metadata": {},
     "output_type": "execute_result"
    }
   ],
   "source": [
    "df.shape"
   ]
  },
  {
   "cell_type": "markdown",
   "id": "b26fac68-f39a-4bd5-9be1-9c8a6222b2a8",
   "metadata": {},
   "source": [
    "# Analyze the 'Cuisines' Column\r",
    "** To find the top three most common cuisines, we need to handle multiple cuisines listed for each restaurant**\n",
    ".**# Split the 'Cuisines' column to handle multiple cuisines per restaura**nt"
   ]
  },
  {
   "cell_type": "code",
   "execution_count": 125,
   "id": "4fec8a03-96de-4aca-9cb9-1e7aa2d8a3d7",
   "metadata": {},
   "outputs": [
    {
     "data": {
      "text/plain": [
       "0                French\n",
       "0              Japanese\n",
       "0              Desserts\n",
       "1              Japanese\n",
       "2               Seafood\n",
       "             ...       \n",
       "9547               Cafe\n",
       "9548            Italian\n",
       "9548      World Cuisine\n",
       "9549    Restaurant Cafe\n",
       "9550               Cafe\n",
       "Name: Cuisines, Length: 19719, dtype: object"
      ]
     },
     "execution_count": 125,
     "metadata": {},
     "output_type": "execute_result"
    }
   ],
   "source": [
    "cuisine_series = df['Cuisines'].str.split(', ').explode()\n",
    "cuisine_series"
   ]
  },
  {
   "cell_type": "code",
   "execution_count": 127,
   "id": "d5f72c7e-c1d0-479d-b4c1-45849a79b23e",
   "metadata": {},
   "outputs": [
    {
     "data": {
      "text/plain": [
       "Cuisines\n",
       "North Indian      3960\n",
       "Chinese           2735\n",
       "Fast Food         1986\n",
       "Mughlai            995\n",
       "Italian            764\n",
       "                  ... \n",
       "Fish and Chips       1\n",
       "Malwani              1\n",
       "Cuisine Varies       1\n",
       "Soul Food            1\n",
       "B�_rek               1\n",
       "Name: count, Length: 145, dtype: int64"
      ]
     },
     "execution_count": 127,
     "metadata": {},
     "output_type": "execute_result"
    }
   ],
   "source": [
    "cuisine_counts = cuisine_series.value_counts()\n",
    "cuisine_counts"
   ]
  },
  {
   "cell_type": "code",
   "execution_count": 129,
   "id": "8cf670f8-f009-4b3f-885e-0446828aeeb2",
   "metadata": {},
   "outputs": [
    {
     "name": "stdout",
     "output_type": "stream",
     "text": [
      "Cuisines\n",
      "North Indian    3960\n",
      "Chinese         2735\n",
      "Fast Food       1986\n",
      "Name: count, dtype: int64\n"
     ]
    }
   ],
   "source": [
    "top_three_cuisines = cuisine_counts.head(3)\n",
    "print(top_three_cuisines)"
   ]
  },
  {
   "cell_type": "code",
   "execution_count": 131,
   "id": "4d0e3099-c1a5-434c-bd30-8e76f0505e86",
   "metadata": {},
   "outputs": [
    {
     "data": {
      "text/plain": [
       "9551"
      ]
     },
     "execution_count": 131,
     "metadata": {},
     "output_type": "execute_result"
    }
   ],
   "source": [
    "len(df)"
   ]
  },
  {
   "cell_type": "markdown",
   "id": "648ef1e7-1e95-4a67-a375-7ae6a3ca2a81",
   "metadata": {},
   "source": [
    "# Calculate the Percentage of Restaurants Serving Each Cuisine\n",
    "**To calculate the percentage, we need the total number of restaurants.**"
   ]
  },
  {
   "cell_type": "code",
   "execution_count": 136,
   "id": "96eb94a6-ac02-444c-a275-210e217cb358",
   "metadata": {},
   "outputs": [
    {
     "name": "stdout",
     "output_type": "stream",
     "text": [
      "Cuisines\n",
      "North Indian    41.461627\n",
      "Chinese         28.635745\n",
      "Fast Food       20.793634\n",
      "Name: count, dtype: float64\n"
     ]
    }
   ],
   "source": [
    "total_restaurants = len(df)\n",
    "top_three_percentages = (top_three_cuisines / total_restaurants) * 100\n",
    "print(top_three_percentages)"
   ]
  },
  {
   "cell_type": "markdown",
   "id": "37f8712a-c402-49b8-9273-14ad4bfee273",
   "metadata": {},
   "source": [
    "# level-1, task-2"
   ]
  },
  {
   "cell_type": "markdown",
   "id": "84e0d721-7ca7-4d56-b1ec-4e658c17ae16",
   "metadata": {},
   "source": [
    "# Identify the city with the highest number of restaurants"
   ]
  },
  {
   "cell_type": "code",
   "execution_count": 139,
   "id": "0ef10d44-026f-4e60-91e2-4e8c83af5258",
   "metadata": {},
   "outputs": [
    {
     "data": {
      "text/plain": [
       "City\n",
       "New Delhi           5473\n",
       "Gurgaon             1118\n",
       "Noida               1080\n",
       "Faridabad            251\n",
       "Ghaziabad             25\n",
       "                    ... \n",
       "Panchkula              1\n",
       "Mc Millan              1\n",
       "Mayfield               1\n",
       "Macedon                1\n",
       "Vineland Station       1\n",
       "Name: count, Length: 141, dtype: int64"
      ]
     },
     "execution_count": 139,
     "metadata": {},
     "output_type": "execute_result"
    }
   ],
   "source": [
    "city_counts = df['City'].value_counts()\n",
    "city_counts"
   ]
  },
  {
   "cell_type": "code",
   "execution_count": 141,
   "id": "ac8cee5b-669b-47aa-b292-c20946a12657",
   "metadata": {},
   "outputs": [
    {
     "name": "stdout",
     "output_type": "stream",
     "text": [
      "The city with the highest number of restaurants is New Delhi with 5473 restaurants.\n"
     ]
    }
   ],
   "source": [
    "city_with_most_restaurants = city_counts.idxmax()\n",
    "num_restaurants = city_counts.max()\n",
    "print(f\"The city with the highest number of restaurants is {city_with_most_restaurants} with {num_restaurants} restaurants.\")"
   ]
  },
  {
   "cell_type": "code",
   "execution_count": 143,
   "id": "ec089e03-c9b1-4ce5-b484-bc9439ab41d6",
   "metadata": {},
   "outputs": [
    {
     "name": "stdout",
     "output_type": "stream",
     "text": [
      "Average ratings for each city:\n",
      "City\n",
      "Abu Dhabi          4.300000\n",
      "Agra               3.965000\n",
      "Ahmedabad          4.161905\n",
      "Albany             3.555000\n",
      "Allahabad          3.395000\n",
      "                     ...   \n",
      "Weirton            3.900000\n",
      "Wellington City    4.250000\n",
      "Winchester Bay     3.200000\n",
      "Yorkton            3.300000\n",
      "��stanbul          4.292857\n",
      "Name: Aggregate rating, Length: 141, dtype: float64\n"
     ]
    }
   ],
   "source": [
    "# Calculate the average rating for restaurants in each city\n",
    "average_ratings = df.groupby('City')['Aggregate rating'].mean()\n",
    "print(\"Average ratings for each city:\")\n",
    "print(average_ratings)"
   ]
  },
  {
   "cell_type": "code",
   "execution_count": 145,
   "id": "96ffbe11-4187-41be-b547-d583afe41dbd",
   "metadata": {},
   "outputs": [
    {
     "name": "stdout",
     "output_type": "stream",
     "text": [
      "The city with the highest average rating is Inner City with an average rating of 4.90.\n"
     ]
    }
   ],
   "source": [
    "# Determine the city with the highest average rating\n",
    "city_with_highest_avg_rating = average_ratings.idxmax()\n",
    "highest_avg_rating = average_ratings.max()\n",
    "print(f\"The city with the highest average rating is {city_with_highest_avg_rating} with an average rating of {highest_avg_rating:.2f}.\")"
   ]
  },
  {
   "cell_type": "markdown",
   "id": "513d33ee-204a-410e-9906-2bd1e5481751",
   "metadata": {},
   "source": [
    "# level-1, task-3"
   ]
  },
  {
   "cell_type": "code",
   "execution_count": 168,
   "id": "be8d9765-c6df-49e0-a442-9990cdd3ada8",
   "metadata": {},
   "outputs": [
    {
     "data": {
      "image/png": "[encoded data removed]",
      "text/plain": [
       "<Figure size 400x300 with 1 Axes>"
      ]
     },
     "metadata": {},
     "output_type": "display_data"
    }
   ],
   "source": [
    "# Plot the distribution of price ranges\n",
    "plt.figure(figsize=(4, 3))\n",
    "df['Price range'].value_counts().sort_index().plot(kind='bar', color='blue')\n",
    "plt.title('Distribution of Price Ranges Among Restaurants')\n",
    "plt.xlabel('Price Range')\n",
    "plt.ylabel('Number of Restaurants')\n",
    "plt.xticks(rotation=0)\n",
    "plt.show()"
   ]
  },
  {
   "cell_type": "code",
   "execution_count": 149,
   "id": "a3e07423-73ad-41f9-bd22-92bb8a267b6c",
   "metadata": {},
   "outputs": [
    {
     "data": {
      "text/plain": [
       "Price range\n",
       "1    4444\n",
       "2    3113\n",
       "3    1408\n",
       "4     586\n",
       "Name: count, dtype: int64"
      ]
     },
     "execution_count": 149,
     "metadata": {},
     "output_type": "execute_result"
    }
   ],
   "source": [
    "# Calculate the percentage of restaurants in each price range category\n",
    "price_range_counts = df['Price range'].value_counts()\n",
    "price_range_counts"
   ]
  },
  {
   "cell_type": "code",
   "execution_count": 151,
   "id": "d6995de5-1121-4d22-9bcd-3f948da8755b",
   "metadata": {},
   "outputs": [
    {
     "data": {
      "text/plain": [
       "9551"
      ]
     },
     "execution_count": 151,
     "metadata": {},
     "output_type": "execute_result"
    }
   ],
   "source": [
    "total_restaurants = len(df)\n",
    "total_restaurants"
   ]
  },
  {
   "cell_type": "code",
   "execution_count": 153,
   "id": "78ccfe38-738f-4d5a-82b6-8ef6609a0866",
   "metadata": {},
   "outputs": [
    {
     "name": "stdout",
     "output_type": "stream",
     "text": [
      "Price range\n",
      "1    46.529159\n",
      "2    32.593446\n",
      "3    14.741912\n",
      "4     6.135483\n",
      "Name: count, dtype: float64\n"
     ]
    }
   ],
   "source": [
    "price_range_percentages = (price_range_counts / total_restaurants) * 100\n",
    "print(price_range_percentages)"
   ]
  },
  {
   "cell_type": "markdown",
   "id": "0ce05cfb-0167-4def-803b-3fe597437145",
   "metadata": {},
   "source": [
    "# level-1, task-4"
   ]
  },
  {
   "cell_type": "code",
   "execution_count": 155,
   "id": "afcdecca-c91f-4d6e-a82e-729505352224",
   "metadata": {},
   "outputs": [
    {
     "data": {
      "text/plain": [
       "Has Online delivery\n",
       "No     7100\n",
       "Yes    2451\n",
       "Name: count, dtype: int64"
      ]
     },
     "execution_count": 155,
     "metadata": {},
     "output_type": "execute_result"
    }
   ],
   "source": [
    "online_delivery_counts = df['Has Online delivery'].value_counts()\n",
    "online_delivery_counts"
   ]
  },
  {
   "cell_type": "code",
   "execution_count": 157,
   "id": "3879f07b-d6a2-40e8-9fd8-1fe48cdf44f8",
   "metadata": {},
   "outputs": [
    {
     "data": {
      "text/plain": [
       "9551"
      ]
     },
     "execution_count": 157,
     "metadata": {},
     "output_type": "execute_result"
    }
   ],
   "source": [
    "    total_restaurants = len(df)\n",
    "total_restaurants"
   ]
  },
  {
   "cell_type": "code",
   "execution_count": 159,
   "id": "6bd2e1a2-0163-4f71-95a0-6c048f0555f7",
   "metadata": {},
   "outputs": [
    {
     "name": "stdout",
     "output_type": "stream",
     "text": [
      "The percentage of restaurants that offer online delivery is 25.66%.\n"
     ]
    }
   ],
   "source": [
    "online_delivery_percentage = (online_delivery_counts['Yes'] / total_restaurants) * 100\n",
    "print(f\"The percentage of restaurants that offer online delivery is {online_delivery_percentage:.2f}%.\")"
   ]
  },
  {
   "cell_type": "markdown",
   "id": "f3402e59-d766-4396-888e-38526818a6b8",
   "metadata": {},
   "source": [
    "# Compare the average ratings of restaurants with and without online delivery"
   ]
  },
  {
   "cell_type": "code",
   "execution_count": 162,
   "id": "3bf6c7f2-2f35-44c4-b447-afb3317d9b1f",
   "metadata": {},
   "outputs": [
    {
     "name": "stdout",
     "output_type": "stream",
     "text": [
      "The average rating of restaurants that offer online delivery is 3.25.\n",
      "The average rating of restaurants that do not offer online delivery is 2.47.\n"
     ]
    }
   ],
   "source": [
    "average_rating_online_delivery = df[df['Has Online delivery'] == 'Yes']['Aggregate rating'].mean()\n",
    "average_rating_no_online_delivery = df[df['Has Online delivery'] == 'No']['Aggregate rating'].mean()\n",
    "\n",
    "print(f\"The average rating of restaurants that offer online delivery is {average_rating_online_delivery:.2f}.\")\n",
    "print(f\"The average rating of restaurants that do not offer online delivery is {average_rating_no_online_delivery:.2f}.\")"
   ]
  }
 ],
 "metadata": {
  "kernelspec": {
   "display_name": "Python 3 (ipykernel)",
   "language": "python",
   "name": "python3"
  },
  "language_info": {
   "codemirror_mode": {
    "name": "ipython",
    "version": 3
   },
   "file_extension": ".py",
   "mimetype": "text/x-python",
   "name": "python",
   "nbconvert_exporter": "python",
   "pygments_lexer": "ipython3",
   "version": "3.11.7"
  }
 },
 "nbformat": 4,
 "nbformat_minor": 5
}
